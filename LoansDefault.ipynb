{
 "cells": [
  {
   "cell_type": "code",
   "execution_count": 1,
   "metadata": {},
   "outputs": [
    {
     "name": "stdout",
     "output_type": "stream",
     "text": [
      "package 'neuralnet' successfully unpacked and MD5 sums checked\n",
      "\n",
      "The downloaded binary packages are in\n",
      "\tC:\\Users\\b\\AppData\\Local\\Temp\\RtmpGe9cUl\\downloaded_packages\n"
     ]
    },
    {
     "name": "stderr",
     "output_type": "stream",
     "text": [
      "Warning message:\n",
      "\"package 'neuralnet' was built under R version 3.6.3\""
     ]
    }
   ],
   "source": [
    "install.packages(\"neuralnet\") \n",
    "library(neuralnet)"
   ]
  },
  {
   "cell_type": "code",
   "execution_count": 2,
   "metadata": {},
   "outputs": [],
   "source": [
    "setwd(\"C:/Users/b/Documents\")"
   ]
  },
  {
   "cell_type": "code",
   "execution_count": 3,
   "metadata": {},
   "outputs": [
    {
     "data": {
      "text/html": [
       "<table>\n",
       "<thead><tr><th scope=col>clientid</th><th scope=col>inc</th><th scope=col>attained.age</th><th scope=col>borrowed</th><th scope=col>redundant_feature</th><th scope=col>answer</th></tr></thead>\n",
       "<tbody>\n",
       "\t<tr><td>1          </td><td>66155.93   </td><td>59.01702   </td><td>8106.5321  </td><td>0.122536751</td><td>0          </td></tr>\n",
       "\t<tr><td>2          </td><td>34415.15   </td><td>48.11715   </td><td>6564.7450  </td><td>0.190751581</td><td>0          </td></tr>\n",
       "\t<tr><td>3          </td><td>57317.17   </td><td>63.10805   </td><td>8020.9533  </td><td>0.139939800</td><td>0          </td></tr>\n",
       "\t<tr><td>4          </td><td>42709.53   </td><td>45.75197   </td><td>6103.6423  </td><td>0.142910532</td><td>0          </td></tr>\n",
       "\t<tr><td>5          </td><td>66952.69   </td><td>18.58434   </td><td>8770.0992  </td><td>0.130989500</td><td>1          </td></tr>\n",
       "\t<tr><td>6          </td><td>24904.06   </td><td>57.47161   </td><td>  15.4986  </td><td>0.000622332</td><td>0          </td></tr>\n",
       "</tbody>\n",
       "</table>\n"
      ],
      "text/latex": [
       "\\begin{tabular}{r|llllll}\n",
       " clientid & inc & attained.age & borrowed & redundant\\_feature & answer\\\\\n",
       "\\hline\n",
       "\t 1           & 66155.93    & 59.01702    & 8106.5321   & 0.122536751 & 0          \\\\\n",
       "\t 2           & 34415.15    & 48.11715    & 6564.7450   & 0.190751581 & 0          \\\\\n",
       "\t 3           & 57317.17    & 63.10805    & 8020.9533   & 0.139939800 & 0          \\\\\n",
       "\t 4           & 42709.53    & 45.75197    & 6103.6423   & 0.142910532 & 0          \\\\\n",
       "\t 5           & 66952.69    & 18.58434    & 8770.0992   & 0.130989500 & 1          \\\\\n",
       "\t 6           & 24904.06    & 57.47161    &   15.4986   & 0.000622332 & 0          \\\\\n",
       "\\end{tabular}\n"
      ],
      "text/markdown": [
       "\n",
       "| clientid | inc | attained.age | borrowed | redundant_feature | answer |\n",
       "|---|---|---|---|---|---|\n",
       "| 1           | 66155.93    | 59.01702    | 8106.5321   | 0.122536751 | 0           |\n",
       "| 2           | 34415.15    | 48.11715    | 6564.7450   | 0.190751581 | 0           |\n",
       "| 3           | 57317.17    | 63.10805    | 8020.9533   | 0.139939800 | 0           |\n",
       "| 4           | 42709.53    | 45.75197    | 6103.6423   | 0.142910532 | 0           |\n",
       "| 5           | 66952.69    | 18.58434    | 8770.0992   | 0.130989500 | 1           |\n",
       "| 6           | 24904.06    | 57.47161    |   15.4986   | 0.000622332 | 0           |\n",
       "\n"
      ],
      "text/plain": [
       "  clientid inc      attained.age borrowed  redundant_feature answer\n",
       "1 1        66155.93 59.01702     8106.5321 0.122536751       0     \n",
       "2 2        34415.15 48.11715     6564.7450 0.190751581       0     \n",
       "3 3        57317.17 63.10805     8020.9533 0.139939800       0     \n",
       "4 4        42709.53 45.75197     6103.6423 0.142910532       0     \n",
       "5 5        66952.69 18.58434     8770.0992 0.130989500       1     \n",
       "6 6        24904.06 57.47161       15.4986 0.000622332       0     "
      ]
     },
     "metadata": {},
     "output_type": "display_data"
    }
   ],
   "source": [
    "myLoans <- read.csv(\"mldata/myLoans.csv\", TRUE, \",\")\n",
    "head(myLoans)"
   ]
  },
  {
   "cell_type": "code",
   "execution_count": 4,
   "metadata": {},
   "outputs": [
    {
     "data": {
      "text/html": [
       "<table>\n",
       "<thead><tr><th scope=col>inc</th><th scope=col>attained.age</th><th scope=col>borrowed</th><th scope=col>answer</th></tr></thead>\n",
       "<tbody>\n",
       "\t<tr><td>0.9231759</td><td>0.8920917</td><td>0.5888374</td><td>0        </td></tr>\n",
       "\t<tr><td>0.2881216</td><td>0.6547079</td><td>0.4768270</td><td>0        </td></tr>\n",
       "\t<tr><td>0.7463343</td><td>0.9811888</td><td>0.5826201</td><td>0        </td></tr>\n",
       "\t<tr><td>0.4540717</td><td>0.6031975</td><td>0.4433280</td><td>0        </td></tr>\n",
       "\t<tr><td>0.9391172</td><td>0.0115241</td><td>0.6370454</td><td>1        </td></tr>\n",
       "</tbody>\n",
       "</table>\n"
      ],
      "text/latex": [
       "\\begin{tabular}{r|llll}\n",
       " inc & attained.age & borrowed & answer\\\\\n",
       "\\hline\n",
       "\t 0.9231759 & 0.8920917 & 0.5888374 & 0        \\\\\n",
       "\t 0.2881216 & 0.6547079 & 0.4768270 & 0        \\\\\n",
       "\t 0.7463343 & 0.9811888 & 0.5826201 & 0        \\\\\n",
       "\t 0.4540717 & 0.6031975 & 0.4433280 & 0        \\\\\n",
       "\t 0.9391172 & 0.0115241 & 0.6370454 & 1        \\\\\n",
       "\\end{tabular}\n"
      ],
      "text/markdown": [
       "\n",
       "| inc | attained.age | borrowed | answer |\n",
       "|---|---|---|---|\n",
       "| 0.9231759 | 0.8920917 | 0.5888374 | 0         |\n",
       "| 0.2881216 | 0.6547079 | 0.4768270 | 0         |\n",
       "| 0.7463343 | 0.9811888 | 0.5826201 | 0         |\n",
       "| 0.4540717 | 0.6031975 | 0.4433280 | 0         |\n",
       "| 0.9391172 | 0.0115241 | 0.6370454 | 1         |\n",
       "\n"
      ],
      "text/plain": [
       "  inc       attained.age borrowed  answer\n",
       "1 0.9231759 0.8920917    0.5888374 0     \n",
       "2 0.2881216 0.6547079    0.4768270 0     \n",
       "3 0.7463343 0.9811888    0.5826201 0     \n",
       "4 0.4540717 0.6031975    0.4433280 0     \n",
       "5 0.9391172 0.0115241    0.6370454 1     "
      ]
     },
     "metadata": {},
     "output_type": "display_data"
    },
    {
     "data": {
      "text/html": [
       "<table>\n",
       "<thead><tr><th></th><th scope=col>inc</th><th scope=col>attained.age</th><th scope=col>borrowed</th><th scope=col>answer</th></tr></thead>\n",
       "<tbody>\n",
       "\t<tr><th scope=row>1996</th><td>0.7844261</td><td>0.6634417</td><td>0.1398763</td><td>1        </td></tr>\n",
       "\t<tr><th scope=row>1997</th><td>0.9904052</td><td>0.1112215</td><td>0.2544048</td><td>1        </td></tr>\n",
       "\t<tr><th scope=row>1998</th><td>0.4861220</td><td>0.2169581</td><td>0.4011289</td><td>1        </td></tr>\n",
       "\t<tr><th scope=row>1999</th><td>0.4750100</td><td>1.0000000</td><td>0.1177903</td><td>1        </td></tr>\n",
       "\t<tr><th scope=row>2000</th><td>0.9888137</td><td>0.8297091</td><td>0.5359703</td><td>1        </td></tr>\n",
       "</tbody>\n",
       "</table>\n"
      ],
      "text/latex": [
       "\\begin{tabular}{r|llll}\n",
       "  & inc & attained.age & borrowed & answer\\\\\n",
       "\\hline\n",
       "\t1996 & 0.7844261 & 0.6634417 & 0.1398763 & 1        \\\\\n",
       "\t1997 & 0.9904052 & 0.1112215 & 0.2544048 & 1        \\\\\n",
       "\t1998 & 0.4861220 & 0.2169581 & 0.4011289 & 1        \\\\\n",
       "\t1999 & 0.4750100 & 1.0000000 & 0.1177903 & 1        \\\\\n",
       "\t2000 & 0.9888137 & 0.8297091 & 0.5359703 & 1        \\\\\n",
       "\\end{tabular}\n"
      ],
      "text/markdown": [
       "\n",
       "| <!--/--> | inc | attained.age | borrowed | answer |\n",
       "|---|---|---|---|---|\n",
       "| 1996 | 0.7844261 | 0.6634417 | 0.1398763 | 1         |\n",
       "| 1997 | 0.9904052 | 0.1112215 | 0.2544048 | 1         |\n",
       "| 1998 | 0.4861220 | 0.2169581 | 0.4011289 | 1         |\n",
       "| 1999 | 0.4750100 | 1.0000000 | 0.1177903 | 1         |\n",
       "| 2000 | 0.9888137 | 0.8297091 | 0.5359703 | 1         |\n",
       "\n"
      ],
      "text/plain": [
       "     inc       attained.age borrowed  answer\n",
       "1996 0.7844261 0.6634417    0.1398763 1     \n",
       "1997 0.9904052 0.1112215    0.2544048 1     \n",
       "1998 0.4861220 0.2169581    0.4011289 1     \n",
       "1999 0.4750100 1.0000000    0.1177903 1     \n",
       "2000 0.9888137 0.8297091    0.5359703 1     "
      ]
     },
     "metadata": {},
     "output_type": "display_data"
    }
   ],
   "source": [
    "normalize <- function(x) {return( (x-min(x)) / (max(x)-min(x)) )}\n",
    "\n",
    "normalized_myLoans <- as.data.frame(lapply(myLoans[2:4], normalize))\n",
    "\n",
    "normalized_myLoans$answer <-myLoans$answer\n",
    "normalized_myLoans[1:5,]\n",
    "normalized_myLoans[1996:2000,]"
   ]
  },
  {
   "cell_type": "code",
   "execution_count": 5,
   "metadata": {},
   "outputs": [],
   "source": [
    "#train, test, and validate\n",
    "\n",
    "training_data <- normalized_myLoans[1:1400,]\n",
    "\n",
    "test_data <- normalized_myLoans[1401:1800,]\n",
    "\n",
    "validation_data <- normalized_myLoans[1801:2000,]\n"
   ]
  },
  {
   "cell_type": "code",
   "execution_count": 6,
   "metadata": {},
   "outputs": [],
   "source": [
    "neural_network <- neuralnet(answer~inc+attained.age+borrowed, training_data, hidden=5, \n",
    "                            act.fct = \"logistic\", linear.output = FALSE)"
   ]
  },
  {
   "cell_type": "code",
   "execution_count": 7,
   "metadata": {
    "scrolled": true
   },
   "outputs": [
    {
     "data": {
      "image/png": "[encoded data removed]",
      "text/plain": [
       "plot without title"
      ]
     },
     "metadata": {},
     "output_type": "display_data"
    }
   ],
   "source": [
    "plot(neural_network, rep=\"best\")"
   ]
  },
  {
   "cell_type": "code",
   "execution_count": 8,
   "metadata": {
    "scrolled": false
   },
   "outputs": [
    {
     "data": {
      "text/html": [
       "<table>\n",
       "<thead><tr><th></th><th scope=col>inc</th><th scope=col>attained.age</th><th scope=col>borrowed</th><th scope=col>answer</th></tr></thead>\n",
       "<tbody>\n",
       "\t<tr><th scope=row>1401</th><td>0.4843376 </td><td>0.8233684 </td><td>0.54066731</td><td>0         </td></tr>\n",
       "\t<tr><th scope=row>1402</th><td>0.9568550 </td><td>0.6474213 </td><td>0.40741605</td><td>0         </td></tr>\n",
       "\t<tr><th scope=row>1403</th><td>0.6801598 </td><td>0.6828621 </td><td>0.06417572</td><td>1         </td></tr>\n",
       "\t<tr><th scope=row>1404</th><td>0.6446342 </td><td>0.6518190 </td><td>0.67233453</td><td>0         </td></tr>\n",
       "\t<tr><th scope=row>1405</th><td>0.1682361 </td><td>0.9499018 </td><td>0.38369755</td><td>0         </td></tr>\n",
       "</tbody>\n",
       "</table>\n"
      ],
      "text/latex": [
       "\\begin{tabular}{r|llll}\n",
       "  & inc & attained.age & borrowed & answer\\\\\n",
       "\\hline\n",
       "\t1401 & 0.4843376  & 0.8233684  & 0.54066731 & 0         \\\\\n",
       "\t1402 & 0.9568550  & 0.6474213  & 0.40741605 & 0         \\\\\n",
       "\t1403 & 0.6801598  & 0.6828621  & 0.06417572 & 1         \\\\\n",
       "\t1404 & 0.6446342  & 0.6518190  & 0.67233453 & 0         \\\\\n",
       "\t1405 & 0.1682361  & 0.9499018  & 0.38369755 & 0         \\\\\n",
       "\\end{tabular}\n"
      ],
      "text/markdown": [
       "\n",
       "| <!--/--> | inc | attained.age | borrowed | answer |\n",
       "|---|---|---|---|---|\n",
       "| 1401 | 0.4843376  | 0.8233684  | 0.54066731 | 0          |\n",
       "| 1402 | 0.9568550  | 0.6474213  | 0.40741605 | 0          |\n",
       "| 1403 | 0.6801598  | 0.6828621  | 0.06417572 | 1          |\n",
       "| 1404 | 0.6446342  | 0.6518190  | 0.67233453 | 0          |\n",
       "| 1405 | 0.1682361  | 0.9499018  | 0.38369755 | 0          |\n",
       "\n"
      ],
      "text/plain": [
       "     inc       attained.age borrowed   answer\n",
       "1401 0.4843376 0.8233684    0.54066731 0     \n",
       "1402 0.9568550 0.6474213    0.40741605 0     \n",
       "1403 0.6801598 0.6828621    0.06417572 1     \n",
       "1404 0.6446342 0.6518190    0.67233453 0     \n",
       "1405 0.1682361 0.9499018    0.38369755 0     "
      ]
     },
     "metadata": {},
     "output_type": "display_data"
    },
    {
     "data": {
      "text/html": [
       "<table>\n",
       "<thead><tr><th></th><th scope=col>inc</th><th scope=col>attained.age</th><th scope=col>borrowed</th></tr></thead>\n",
       "<tbody>\n",
       "\t<tr><th scope=row>1401</th><td>0.4843376 </td><td>0.8233684 </td><td>0.54066731</td></tr>\n",
       "\t<tr><th scope=row>1402</th><td>0.9568550 </td><td>0.6474213 </td><td>0.40741605</td></tr>\n",
       "\t<tr><th scope=row>1403</th><td>0.6801598 </td><td>0.6828621 </td><td>0.06417572</td></tr>\n",
       "\t<tr><th scope=row>1404</th><td>0.6446342 </td><td>0.6518190 </td><td>0.67233453</td></tr>\n",
       "\t<tr><th scope=row>1405</th><td>0.1682361 </td><td>0.9499018 </td><td>0.38369755</td></tr>\n",
       "</tbody>\n",
       "</table>\n"
      ],
      "text/latex": [
       "\\begin{tabular}{r|lll}\n",
       "  & inc & attained.age & borrowed\\\\\n",
       "\\hline\n",
       "\t1401 & 0.4843376  & 0.8233684  & 0.54066731\\\\\n",
       "\t1402 & 0.9568550  & 0.6474213  & 0.40741605\\\\\n",
       "\t1403 & 0.6801598  & 0.6828621  & 0.06417572\\\\\n",
       "\t1404 & 0.6446342  & 0.6518190  & 0.67233453\\\\\n",
       "\t1405 & 0.1682361  & 0.9499018  & 0.38369755\\\\\n",
       "\\end{tabular}\n"
      ],
      "text/markdown": [
       "\n",
       "| <!--/--> | inc | attained.age | borrowed |\n",
       "|---|---|---|---|\n",
       "| 1401 | 0.4843376  | 0.8233684  | 0.54066731 |\n",
       "| 1402 | 0.9568550  | 0.6474213  | 0.40741605 |\n",
       "| 1403 | 0.6801598  | 0.6828621  | 0.06417572 |\n",
       "| 1404 | 0.6446342  | 0.6518190  | 0.67233453 |\n",
       "| 1405 | 0.1682361  | 0.9499018  | 0.38369755 |\n",
       "\n"
      ],
      "text/plain": [
       "     inc       attained.age borrowed  \n",
       "1401 0.4843376 0.8233684    0.54066731\n",
       "1402 0.9568550 0.6474213    0.40741605\n",
       "1403 0.6801598 0.6828621    0.06417572\n",
       "1404 0.6446342 0.6518190    0.67233453\n",
       "1405 0.1682361 0.9499018    0.38369755"
      ]
     },
     "metadata": {},
     "output_type": "display_data"
    }
   ],
   "source": [
    "\n",
    "test_data2 <- subset(test_data,select=c(\"inc\",\"attained.age\",\"borrowed\")) \n",
    "head(test_data,n=5) \n",
    "head(test_data2,n=5)"
   ]
  },
  {
   "cell_type": "code",
   "execution_count": 9,
   "metadata": {},
   "outputs": [
    {
     "data": {
      "text/html": [
       "<table>\n",
       "<tbody>\n",
       "\t<tr><th scope=row>1401</th><td>4.620426e-22</td></tr>\n",
       "\t<tr><th scope=row>1402</th><td>2.552507e-36</td></tr>\n",
       "\t<tr><th scope=row>1403</th><td>2.206185e-70</td></tr>\n",
       "\t<tr><th scope=row>1404</th><td>4.260610e-22</td></tr>\n",
       "\t<tr><th scope=row>1405</th><td>6.561195e-22</td></tr>\n",
       "</tbody>\n",
       "</table>\n"
      ],
      "text/latex": [
       "\\begin{tabular}{r|l}\n",
       "\t1401 & 4.620426e-22\\\\\n",
       "\t1402 & 2.552507e-36\\\\\n",
       "\t1403 & 2.206185e-70\\\\\n",
       "\t1404 & 4.260610e-22\\\\\n",
       "\t1405 & 6.561195e-22\\\\\n",
       "\\end{tabular}\n"
      ],
      "text/markdown": [
       "\n",
       "| 1401 | 4.620426e-22 |\n",
       "| 1402 | 2.552507e-36 |\n",
       "| 1403 | 2.206185e-70 |\n",
       "| 1404 | 4.260610e-22 |\n",
       "| 1405 | 6.561195e-22 |\n",
       "\n"
      ],
      "text/plain": [
       "     [,1]        \n",
       "1401 4.620426e-22\n",
       "1402 2.552507e-36\n",
       "1403 2.206185e-70\n",
       "1404 4.260610e-22\n",
       "1405 6.561195e-22"
      ]
     },
     "metadata": {},
     "output_type": "display_data"
    }
   ],
   "source": [
    "predictions <- compute(neural_network, test_data2)\n",
    "head(predictions$net.result,n=5)"
   ]
  },
  {
   "cell_type": "code",
   "execution_count": 10,
   "metadata": {},
   "outputs": [
    {
     "data": {
      "text/html": [
       "<table>\n",
       "<tbody>\n",
       "\t<tr><th scope=row>1401</th><td>0</td></tr>\n",
       "\t<tr><th scope=row>1402</th><td>0</td></tr>\n",
       "\t<tr><th scope=row>1403</th><td>0</td></tr>\n",
       "\t<tr><th scope=row>1404</th><td>0</td></tr>\n",
       "\t<tr><th scope=row>1405</th><td>0</td></tr>\n",
       "\t<tr><th scope=row>1406</th><td>0</td></tr>\n",
       "\t<tr><th scope=row>1407</th><td>0</td></tr>\n",
       "\t<tr><th scope=row>1408</th><td>0</td></tr>\n",
       "\t<tr><th scope=row>1409</th><td>0</td></tr>\n",
       "</tbody>\n",
       "</table>\n"
      ],
      "text/latex": [
       "\\begin{tabular}{r|l}\n",
       "\t1401 & 0\\\\\n",
       "\t1402 & 0\\\\\n",
       "\t1403 & 0\\\\\n",
       "\t1404 & 0\\\\\n",
       "\t1405 & 0\\\\\n",
       "\t1406 & 0\\\\\n",
       "\t1407 & 0\\\\\n",
       "\t1408 & 0\\\\\n",
       "\t1409 & 0\\\\\n",
       "\\end{tabular}\n"
      ],
      "text/markdown": [
       "\n",
       "| 1401 | 0 |\n",
       "| 1402 | 0 |\n",
       "| 1403 | 0 |\n",
       "| 1404 | 0 |\n",
       "| 1405 | 0 |\n",
       "| 1406 | 0 |\n",
       "| 1407 | 0 |\n",
       "| 1408 | 0 |\n",
       "| 1409 | 0 |\n",
       "\n"
      ],
      "text/plain": [
       "     [,1]\n",
       "1401 0   \n",
       "1402 0   \n",
       "1403 0   \n",
       "1404 0   \n",
       "1405 0   \n",
       "1406 0   \n",
       "1407 0   \n",
       "1408 0   \n",
       "1409 0   "
      ]
     },
     "metadata": {},
     "output_type": "display_data"
    }
   ],
   "source": [
    "predictions <- round(predictions$net.result)\n",
    "head(predictions,n=9)"
   ]
  },
  {
   "cell_type": "code",
   "execution_count": 11,
   "metadata": {},
   "outputs": [
    {
     "data": {
      "text/html": [
       "0.99"
      ],
      "text/latex": [
       "0.99"
      ],
      "text/markdown": [
       "0.99"
      ],
      "text/plain": [
       "[1] 0.99"
      ]
     },
     "metadata": {},
     "output_type": "display_data"
    }
   ],
   "source": [
    "test_accuracy = mean(test_data$answer==predictions)\n",
    "test_accuracy"
   ]
  },
  {
   "cell_type": "code",
   "execution_count": 12,
   "metadata": {},
   "outputs": [
    {
     "data": {
      "text/html": [
       "<table>\n",
       "<thead><tr><th></th><th scope=col>inc</th><th scope=col>attained.age</th><th scope=col>borrowed</th><th scope=col>answer</th></tr></thead>\n",
       "<tbody>\n",
       "\t<tr><th scope=row>1996</th><td>0.7844261</td><td>0.6634417</td><td>0.1398763</td><td>1        </td></tr>\n",
       "\t<tr><th scope=row>1997</th><td>0.9904052</td><td>0.1112215</td><td>0.2544048</td><td>1        </td></tr>\n",
       "\t<tr><th scope=row>1998</th><td>0.4861220</td><td>0.2169581</td><td>0.4011289</td><td>1        </td></tr>\n",
       "\t<tr><th scope=row>1999</th><td>0.4750100</td><td>1.0000000</td><td>0.1177903</td><td>1        </td></tr>\n",
       "\t<tr><th scope=row>2000</th><td>0.9888137</td><td>0.8297091</td><td>0.5359703</td><td>1        </td></tr>\n",
       "</tbody>\n",
       "</table>\n"
      ],
      "text/latex": [
       "\\begin{tabular}{r|llll}\n",
       "  & inc & attained.age & borrowed & answer\\\\\n",
       "\\hline\n",
       "\t1996 & 0.7844261 & 0.6634417 & 0.1398763 & 1        \\\\\n",
       "\t1997 & 0.9904052 & 0.1112215 & 0.2544048 & 1        \\\\\n",
       "\t1998 & 0.4861220 & 0.2169581 & 0.4011289 & 1        \\\\\n",
       "\t1999 & 0.4750100 & 1.0000000 & 0.1177903 & 1        \\\\\n",
       "\t2000 & 0.9888137 & 0.8297091 & 0.5359703 & 1        \\\\\n",
       "\\end{tabular}\n"
      ],
      "text/markdown": [
       "\n",
       "| <!--/--> | inc | attained.age | borrowed | answer |\n",
       "|---|---|---|---|---|\n",
       "| 1996 | 0.7844261 | 0.6634417 | 0.1398763 | 1         |\n",
       "| 1997 | 0.9904052 | 0.1112215 | 0.2544048 | 1         |\n",
       "| 1998 | 0.4861220 | 0.2169581 | 0.4011289 | 1         |\n",
       "| 1999 | 0.4750100 | 1.0000000 | 0.1177903 | 1         |\n",
       "| 2000 | 0.9888137 | 0.8297091 | 0.5359703 | 1         |\n",
       "\n"
      ],
      "text/plain": [
       "     inc       attained.age borrowed  answer\n",
       "1996 0.7844261 0.6634417    0.1398763 1     \n",
       "1997 0.9904052 0.1112215    0.2544048 1     \n",
       "1998 0.4861220 0.2169581    0.4011289 1     \n",
       "1999 0.4750100 1.0000000    0.1177903 1     \n",
       "2000 0.9888137 0.8297091    0.5359703 1     "
      ]
     },
     "metadata": {},
     "output_type": "display_data"
    },
    {
     "data": {
      "text/html": [
       "<table>\n",
       "<thead><tr><th></th><th scope=col>inc</th><th scope=col>attained.age</th><th scope=col>borrowed</th></tr></thead>\n",
       "<tbody>\n",
       "\t<tr><th scope=row>1996</th><td>0.7844261</td><td>0.6634417</td><td>0.1398763</td></tr>\n",
       "\t<tr><th scope=row>1997</th><td>0.9904052</td><td>0.1112215</td><td>0.2544048</td></tr>\n",
       "\t<tr><th scope=row>1998</th><td>0.4861220</td><td>0.2169581</td><td>0.4011289</td></tr>\n",
       "\t<tr><th scope=row>1999</th><td>0.4750100</td><td>1.0000000</td><td>0.1177903</td></tr>\n",
       "\t<tr><th scope=row>2000</th><td>0.9888137</td><td>0.8297091</td><td>0.5359703</td></tr>\n",
       "</tbody>\n",
       "</table>\n"
      ],
      "text/latex": [
       "\\begin{tabular}{r|lll}\n",
       "  & inc & attained.age & borrowed\\\\\n",
       "\\hline\n",
       "\t1996 & 0.7844261 & 0.6634417 & 0.1398763\\\\\n",
       "\t1997 & 0.9904052 & 0.1112215 & 0.2544048\\\\\n",
       "\t1998 & 0.4861220 & 0.2169581 & 0.4011289\\\\\n",
       "\t1999 & 0.4750100 & 1.0000000 & 0.1177903\\\\\n",
       "\t2000 & 0.9888137 & 0.8297091 & 0.5359703\\\\\n",
       "\\end{tabular}\n"
      ],
      "text/markdown": [
       "\n",
       "| <!--/--> | inc | attained.age | borrowed |\n",
       "|---|---|---|---|\n",
       "| 1996 | 0.7844261 | 0.6634417 | 0.1398763 |\n",
       "| 1997 | 0.9904052 | 0.1112215 | 0.2544048 |\n",
       "| 1998 | 0.4861220 | 0.2169581 | 0.4011289 |\n",
       "| 1999 | 0.4750100 | 1.0000000 | 0.1177903 |\n",
       "| 2000 | 0.9888137 | 0.8297091 | 0.5359703 |\n",
       "\n"
      ],
      "text/plain": [
       "     inc       attained.age borrowed \n",
       "1996 0.7844261 0.6634417    0.1398763\n",
       "1997 0.9904052 0.1112215    0.2544048\n",
       "1998 0.4861220 0.2169581    0.4011289\n",
       "1999 0.4750100 1.0000000    0.1177903\n",
       "2000 0.9888137 0.8297091    0.5359703"
      ]
     },
     "metadata": {},
     "output_type": "display_data"
    }
   ],
   "source": [
    "validation_data2 <- subset(validation_data,select=c(\"inc\",\"attained.age\",\"borrowed\"))\n",
    "tail(validation_data,n=5)\n",
    "tail(validation_data2,n=5)"
   ]
  },
  {
   "cell_type": "code",
   "execution_count": 13,
   "metadata": {},
   "outputs": [
    {
     "data": {
      "text/html": [
       "<table>\n",
       "<tbody>\n",
       "\t<tr><th scope=row>1996</th><td> 6.285061e-67</td></tr>\n",
       "\t<tr><th scope=row>1997</th><td>5.089837e-112</td></tr>\n",
       "\t<tr><th scope=row>1998</th><td> 9.999993e-01</td></tr>\n",
       "\t<tr><th scope=row>1999</th><td> 1.169443e-26</td></tr>\n",
       "\t<tr><th scope=row>2000</th><td> 8.203405e-25</td></tr>\n",
       "</tbody>\n",
       "</table>\n"
      ],
      "text/latex": [
       "\\begin{tabular}{r|l}\n",
       "\t1996 &  6.285061e-67\\\\\n",
       "\t1997 & 5.089837e-112\\\\\n",
       "\t1998 &  9.999993e-01\\\\\n",
       "\t1999 &  1.169443e-26\\\\\n",
       "\t2000 &  8.203405e-25\\\\\n",
       "\\end{tabular}\n"
      ],
      "text/markdown": [
       "\n",
       "| 1996 |  6.285061e-67 |\n",
       "| 1997 | 5.089837e-112 |\n",
       "| 1998 |  9.999993e-01 |\n",
       "| 1999 |  1.169443e-26 |\n",
       "| 2000 |  8.203405e-25 |\n",
       "\n"
      ],
      "text/plain": [
       "     [,1]         \n",
       "1996  6.285061e-67\n",
       "1997 5.089837e-112\n",
       "1998  9.999993e-01\n",
       "1999  1.169443e-26\n",
       "2000  8.203405e-25"
      ]
     },
     "metadata": {},
     "output_type": "display_data"
    }
   ],
   "source": [
    "predictions2 <- compute(neural_network, validation_data2)\n",
    "tail(predictions2$net.result,n=5)"
   ]
  },
  {
   "cell_type": "code",
   "execution_count": 14,
   "metadata": {},
   "outputs": [
    {
     "data": {
      "text/html": [
       "<table>\n",
       "<tbody>\n",
       "\t<tr><th scope=row>1992</th><td>0</td></tr>\n",
       "\t<tr><th scope=row>1993</th><td>0</td></tr>\n",
       "\t<tr><th scope=row>1994</th><td>0</td></tr>\n",
       "\t<tr><th scope=row>1995</th><td>0</td></tr>\n",
       "\t<tr><th scope=row>1996</th><td>0</td></tr>\n",
       "\t<tr><th scope=row>1997</th><td>0</td></tr>\n",
       "\t<tr><th scope=row>1998</th><td>1</td></tr>\n",
       "\t<tr><th scope=row>1999</th><td>0</td></tr>\n",
       "\t<tr><th scope=row>2000</th><td>0</td></tr>\n",
       "</tbody>\n",
       "</table>\n"
      ],
      "text/latex": [
       "\\begin{tabular}{r|l}\n",
       "\t1992 & 0\\\\\n",
       "\t1993 & 0\\\\\n",
       "\t1994 & 0\\\\\n",
       "\t1995 & 0\\\\\n",
       "\t1996 & 0\\\\\n",
       "\t1997 & 0\\\\\n",
       "\t1998 & 1\\\\\n",
       "\t1999 & 0\\\\\n",
       "\t2000 & 0\\\\\n",
       "\\end{tabular}\n"
      ],
      "text/markdown": [
       "\n",
       "| 1992 | 0 |\n",
       "| 1993 | 0 |\n",
       "| 1994 | 0 |\n",
       "| 1995 | 0 |\n",
       "| 1996 | 0 |\n",
       "| 1997 | 0 |\n",
       "| 1998 | 1 |\n",
       "| 1999 | 0 |\n",
       "| 2000 | 0 |\n",
       "\n"
      ],
      "text/plain": [
       "     [,1]\n",
       "1992 0   \n",
       "1993 0   \n",
       "1994 0   \n",
       "1995 0   \n",
       "1996 0   \n",
       "1997 0   \n",
       "1998 1   \n",
       "1999 0   \n",
       "2000 0   "
      ]
     },
     "metadata": {},
     "output_type": "display_data"
    }
   ],
   "source": [
    "predictions2 <- round(predictions2$net.result)\n",
    "tail(predictions2,n=9)"
   ]
  },
  {
   "cell_type": "code",
   "execution_count": 15,
   "metadata": {
    "scrolled": true
   },
   "outputs": [
    {
     "data": {
      "text/html": [
       "0.97"
      ],
      "text/latex": [
       "0.97"
      ],
      "text/markdown": [
       "0.97"
      ],
      "text/plain": [
       "[1] 0.97"
      ]
     },
     "metadata": {},
     "output_type": "display_data"
    }
   ],
   "source": [
    "validation_accuracy = mean(validation_data$answer==predictions2)\n",
    "validation_accuracy "
   ]
  },
  {
   "cell_type": "markdown",
   "metadata": {},
   "source": [
    "Given an Error of 1.539 in the neural network plot, this shows a 98.5% accuracy for the training set."
   ]
  },
  {
   "cell_type": "markdown",
   "metadata": {},
   "source": [
    "In order to change this from classification application to regression which produces a single value, we need to make changes to the activation function and more layers to achieve result."
   ]
  },
  {
   "cell_type": "markdown",
   "metadata": {},
   "source": [
    "The purpose of this project is to gain more knowledge on Classification Application of neural network. Specifically, i gained in-dept knowledge on what goes on within the backend of data training. Understanding the links among the input values, weighted values, activation process, hidden layers, and finally the output is fascinating and will be of great help moving forward in Machine Learning practicals."
   ]
  }
 ],
 "metadata": {
  "kernelspec": {
   "display_name": "R",
   "language": "R",
   "name": "ir"
  },
  "language_info": {
   "codemirror_mode": "r",
   "file_extension": ".r",
   "mimetype": "text/x-r-source",
   "name": "R",
   "pygments_lexer": "r",
   "version": "3.6.1"
  }
 },
 "nbformat": 4,
 "nbformat_minor": 4
}
